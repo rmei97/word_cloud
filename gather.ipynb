{
 "cells": [
  {
   "cell_type": "code",
   "execution_count": 24,
   "metadata": {},
   "outputs": [],
   "source": [
    "import json"
   ]
  },
  {
   "cell_type": "code",
   "execution_count": 10,
   "metadata": {},
   "outputs": [],
   "source": [
    "from bs4 import BeautifulSoup\n",
    "import requests"
   ]
  },
  {
   "cell_type": "code",
   "execution_count": 196,
   "metadata": {},
   "outputs": [],
   "source": [
    "import os\n",
    "import time\n",
    "\n",
    "from selenium import webdriver"
   ]
  },
  {
   "cell_type": "code",
   "execution_count": 4,
   "metadata": {},
   "outputs": [],
   "source": [
    "from nltk.corpus import stopwords\n",
    "import string"
   ]
  },
  {
   "cell_type": "code",
   "execution_count": null,
   "metadata": {},
   "outputs": [],
   "source": [
    "from nltk.stem.wordnet import WordNetLemmatizer"
   ]
  },
  {
   "cell_type": "code",
   "execution_count": null,
   "metadata": {},
   "outputs": [],
   "source": [
    "from  nltk import FreqDist"
   ]
  },
  {
   "cell_type": "markdown",
   "metadata": {},
   "source": [
    "Start with removing stopwords and punctuations for any text"
   ]
  },
  {
   "cell_type": "code",
   "execution_count": 7,
   "metadata": {},
   "outputs": [
    {
     "data": {
      "text/plain": [
       "'!\"#$%&\\'()*+,-./:;<=>?@[\\\\]^_`{|}~'"
      ]
     },
     "execution_count": 7,
     "metadata": {},
     "output_type": "execute_result"
    }
   ],
   "source": [
    "string.punctuation"
   ]
  },
  {
   "cell_type": "code",
   "execution_count": 8,
   "metadata": {},
   "outputs": [],
   "source": [
    "list_stopwords = stopwords.words('english')\n",
    "list_stopwords += list(string.punctuation)"
   ]
  },
  {
   "cell_type": "markdown",
   "metadata": {},
   "source": [
    "# Gathering"
   ]
  },
  {
   "cell_type": "markdown",
   "metadata": {},
   "source": [
    "Search data scientists positions\n",
    "<https://www.linkedin.com/jobs/search?keywords=Data%20Scientist&location=New%20York%2C%20NY&geoId=102690268&trk=public_jobs_jobs-search-bar_search-submit&redirect=false&position=1&pageNum=0>"
   ]
  },
  {
   "cell_type": "code",
   "execution_count": 258,
   "metadata": {},
   "outputs": [],
   "source": [
    "search = 'https://www.linkedin.com/jobs/search?keywords=Data%20Scientist&location=New%20York%2C%20NY&geoId=102690268&trk=public_jobs_jobs-search-bar_search-submit&redirect=false&position=1&pageNum=0&f_TP=1%2C2%2C3%2C4'\n",
    "DRIVER_PATH = '/usr/local/bin/chromedriver'\n",
    "\n",
    "driver = webdriver.Chrome(executable_path=DRIVER_PATH)\n",
    "driver.get(search)"
   ]
  },
  {
   "cell_type": "code",
   "execution_count": 259,
   "metadata": {},
   "outputs": [
    {
     "ename": "KeyboardInterrupt",
     "evalue": "",
     "output_type": "error",
     "traceback": [
      "\u001b[0;31m---------------------------------------------------------------------------\u001b[0m",
      "\u001b[0;31mKeyboardInterrupt\u001b[0m                         Traceback (most recent call last)",
      "\u001b[0;32m<ipython-input-259-50e1a5199658>\u001b[0m in \u001b[0;36m<module>\u001b[0;34m\u001b[0m\n\u001b[1;32m     12\u001b[0m \u001b[0;34m\u001b[0m\u001b[0m\n\u001b[1;32m     13\u001b[0m     \u001b[0;31m# Wait to load page\u001b[0m\u001b[0;34m\u001b[0m\u001b[0;34m\u001b[0m\u001b[0;34m\u001b[0m\u001b[0m\n\u001b[0;32m---> 14\u001b[0;31m     \u001b[0mtime\u001b[0m\u001b[0;34m.\u001b[0m\u001b[0msleep\u001b[0m\u001b[0;34m(\u001b[0m\u001b[0mSCROLL_PAUSE_TIME\u001b[0m\u001b[0;34m)\u001b[0m\u001b[0;34m\u001b[0m\u001b[0;34m\u001b[0m\u001b[0m\n\u001b[0m\u001b[1;32m     15\u001b[0m \u001b[0;34m\u001b[0m\u001b[0m\n\u001b[1;32m     16\u001b[0m     \u001b[0;31m# Calculate new scroll height and compare with last scroll height\u001b[0m\u001b[0;34m\u001b[0m\u001b[0;34m\u001b[0m\u001b[0;34m\u001b[0m\u001b[0m\n",
      "\u001b[0;31mKeyboardInterrupt\u001b[0m: "
     ]
    }
   ],
   "source": [
    "SCROLL_PAUSE_TIME = 4\n",
    "\n",
    "# Get scroll height\n",
    "last_height = driver.execute_script(\"return document.body.scrollHeight\")\n",
    "\n",
    "#I need to count the number of clicks because there will be a point where I hit the \"See More\" button infinite times\n",
    "#I will use this variable and set the number of click to be a max of something as a condition\n",
    "click_counter = 0\n",
    "while True:\n",
    "    # Scroll down to bottom\n",
    "    driver.execute_script(\"window.scrollTo(0, document.body.scrollHeight);\")\n",
    "\n",
    "    # Wait to load page\n",
    "    time.sleep(SCROLL_PAUSE_TIME)\n",
    "\n",
    "    # Calculate new scroll height and compare with last scroll height\n",
    "    new_height = driver.execute_script(\"return document.body.scrollHeight\")\n",
    "    \n",
    "    #for now using 100 clicks because 99 * 15(jobs per page) < 1500 max number of jobs is less than 1500\n",
    "    if new_height == last_height & click_counter < 100: \n",
    "        try:\n",
    "            #use an XML path instead to get to the see more button\n",
    "            see_more = driver.find_elements_by_xpath('/html/body/main/div/section/button')\n",
    "            click_counter += 1\n",
    "            see_more[0].click()\n",
    "        except:\n",
    "            break\n",
    "    last_height = new_height"
   ]
  },
  {
   "cell_type": "code",
   "execution_count": 255,
   "metadata": {},
   "outputs": [],
   "source": [
    "driver.quit()"
   ]
  },
  {
   "cell_type": "code",
   "execution_count": 185,
   "metadata": {},
   "outputs": [],
   "source": [
    "soup_search = BeautifulSoup(search_request.content)"
   ]
  },
  {
   "cell_type": "code",
   "execution_count": 280,
   "metadata": {},
   "outputs": [],
   "source": [
    "jobs = soup_search.findAll('a', class_ = \"result-card__full-card-link\")"
   ]
  },
  {
   "cell_type": "code",
   "execution_count": 281,
   "metadata": {},
   "outputs": [
    {
     "data": {
      "text/plain": [
       "'https://www.linkedin.com/jobs/view/marketing-data-scientist-at-google-2181386253?refId=ccd09f87-bf62-4ac8-a022-d37ee4f27970&position=1&pageNum=0&trk=public_jobs_job-result-card_result-card_full-click'"
      ]
     },
     "execution_count": 281,
     "metadata": {},
     "output_type": "execute_result"
    }
   ],
   "source": [
    "jobs[0]['href']"
   ]
  },
  {
   "cell_type": "code",
   "execution_count": 189,
   "metadata": {},
   "outputs": [],
   "source": [
    "job_response = requests.get(url = 'https://www.linkedin.com/jobs/view/2167608769')"
   ]
  },
  {
   "cell_type": "code",
   "execution_count": 193,
   "metadata": {},
   "outputs": [],
   "source": [
    "job_soup = BeautifulSoup(job_response.content)"
   ]
  },
  {
   "cell_type": "code",
   "execution_count": 97,
   "metadata": {},
   "outputs": [],
   "source": [
    "#remember to use soup for \n",
    "a = soup.find('div', class_ = 'description__text description__text--rich')"
   ]
  },
  {
   "cell_type": "code",
   "execution_count": null,
   "metadata": {},
   "outputs": [],
   "source": []
  },
  {
   "cell_type": "code",
   "execution_count": null,
   "metadata": {},
   "outputs": [],
   "source": []
  },
  {
   "cell_type": "markdown",
   "metadata": {},
   "source": [
    "Note: started with trying to use a scraper in Selenium to scroll for jobs, but I couldn't get the button to work perfectly. At this point going to just save the html to get the list of links for the jobs and in the future I can automate the process"
   ]
  },
  {
   "cell_type": "code",
   "execution_count": 290,
   "metadata": {
    "scrolled": false
   },
   "outputs": [],
   "source": [
    "with open('jobs.html', 'r') as f:\n",
    "\n",
    "    contents = f.read()\n",
    "\n",
    "    search_soup = BeautifulSoup(contents, 'lxml')\n",
    "    jobs_list = search_soup.findAll('a', class_ = \"result-card__full-card-link\")"
   ]
  },
  {
   "cell_type": "code",
   "execution_count": 291,
   "metadata": {},
   "outputs": [
    {
     "data": {
      "text/plain": [
       "981"
      ]
     },
     "execution_count": 291,
     "metadata": {},
     "output_type": "execute_result"
    }
   ],
   "source": [
    "len(jobs)"
   ]
  },
  {
   "cell_type": "code",
   "execution_count": 293,
   "metadata": {},
   "outputs": [
    {
     "data": {
      "text/plain": [
       "['https://www.linkedin.com/jobs/view/data-scientist-at-datadog-2209311577?refId=0cd06fc1-321c-4715-ace6-ec6a894ba73c&position=1&pageNum=0&trk=public_jobs_job-result-card_result-card_full-click',\n",
       " 'https://www.linkedin.com/jobs/view/data-scientist-analytics-at-okcupid-2210722658?refId=0cd06fc1-321c-4715-ace6-ec6a894ba73c&position=2&pageNum=0&trk=public_jobs_job-result-card_result-card_full-click',\n",
       " 'https://www.linkedin.com/jobs/view/data-scientist-at-ibm-2204969335?refId=0cd06fc1-321c-4715-ace6-ec6a894ba73c&position=3&pageNum=0&trk=public_jobs_job-result-card_result-card_full-click',\n",
       " 'https://www.linkedin.com/jobs/view/data-scientist-advertising-business-at-spotify-2186338356?refId=0cd06fc1-321c-4715-ace6-ec6a894ba73c&position=4&pageNum=0&trk=public_jobs_job-result-card_result-card_full-click',\n",
       " 'https://www.linkedin.com/jobs/view/data-scientist-analytics-at-facebook-2234723136?refId=0cd06fc1-321c-4715-ace6-ec6a894ba73c&position=5&pageNum=0&trk=public_jobs_job-result-card_result-card_full-click']"
      ]
     },
     "execution_count": 293,
     "metadata": {},
     "output_type": "execute_result"
    }
   ],
   "source": [
    "[job['href'] for job in jobs[:5]]"
   ]
  },
  {
   "cell_type": "markdown",
   "metadata": {},
   "source": [
    "<h2> Top Card (about) </h2>\n",
    "\n",
    "    \n",
    "<t1>Individual page scraping"
   ]
  },
  {
   "cell_type": "code",
   "execution_count": 195,
   "metadata": {
    "scrolled": true
   },
   "outputs": [],
   "source": [
    "temp = job_soup.find('div',class_ = \"topcard__content-left\")"
   ]
  },
  {
   "cell_type": "code",
   "execution_count": 118,
   "metadata": {},
   "outputs": [
    {
     "data": {
      "text/plain": [
       "'Data Scientist'"
      ]
     },
     "execution_count": 118,
     "metadata": {},
     "output_type": "execute_result"
    }
   ],
   "source": [
    "title = temp.find('h1', class_ = \"topcard__title\").text\n",
    "title"
   ]
  },
  {
   "cell_type": "code",
   "execution_count": 134,
   "metadata": {},
   "outputs": [
    {
     "data": {
      "text/plain": [
       "'DURLSTON PARTNERS'"
      ]
     },
     "execution_count": 134,
     "metadata": {},
     "output_type": "execute_result"
    }
   ],
   "source": [
    "company = temp.find('a', class_ = \"topcard__org-name-link topcard__flavor--black-link\").text\n",
    "company"
   ]
  },
  {
   "cell_type": "code",
   "execution_count": 138,
   "metadata": {},
   "outputs": [
    {
     "data": {
      "text/plain": [
       "'New York City Metropolitan Area'"
      ]
     },
     "execution_count": 138,
     "metadata": {},
     "output_type": "execute_result"
    }
   ],
   "source": [
    "location = temp.find('span', class_ = \"topcard__flavor topcard__flavor--bullet\").text\n",
    "location"
   ]
  },
  {
   "cell_type": "code",
   "execution_count": 140,
   "metadata": {
    "scrolled": true
   },
   "outputs": [
    {
     "data": {
      "text/plain": [
       "'$100,000.00 - $140,000.00'"
      ]
     },
     "execution_count": 140,
     "metadata": {},
     "output_type": "execute_result"
    }
   ],
   "source": [
    "salary = temp.find('div',class_ = \"salary topcard__flavor--salary\").text\n",
    "salary"
   ]
  },
  {
   "cell_type": "markdown",
   "metadata": {},
   "source": [
    "<h3> Job Description"
   ]
  },
  {
   "cell_type": "code",
   "execution_count": 142,
   "metadata": {},
   "outputs": [
    {
     "data": {
      "text/plain": [
       "'A VC fund is looking to add a data scientist to their team. This person will perform data analysis and research on alternative data to drive insights and impact investment decisions.ResponsibilitiesApply data and analytical skills throughout the investment process to make significant contributions to research, idea generation, portfolio construction, performance analytics, and team workflowDevelop a strategic plan and roadmap for data research strategy and serve as an expert statistician/data scientist on an investment teamPerform analyses on large datasets to extract actionable insights that will help drive decisions across the businessCommunicate data-driven insights and recommendations to key stakeholdersRequirementsUndergraduate degree or higher in science, computer science, statistics, economics, mathematics, or similar quantitative disciplineStrong programming skills in SQL/NoSQL and at least one of the following Python, R, or C++Ability to balance strategic vision for the team with strong attention to detail and commercial awareness in a fast-paced environmentExperience working in Management Consulting is strongly desired'"
      ]
     },
     "execution_count": 142,
     "metadata": {},
     "output_type": "execute_result"
    }
   ],
   "source": [
    "description = soup.find('div', class_ = \"show-more-less-html__markup show-more-less-html__markup--clamp-after-5\").text\n",
    "description"
   ]
  },
  {
   "cell_type": "markdown",
   "metadata": {},
   "source": []
  },
  {
   "cell_type": "markdown",
   "metadata": {},
   "source": []
  },
  {
   "cell_type": "markdown",
   "metadata": {},
   "source": [
    "Requesting and getting data"
   ]
  },
  {
   "cell_type": "code",
   "execution_count": 295,
   "metadata": {},
   "outputs": [
    {
     "data": {
      "text/plain": [
       "<a class=\"result-card__full-card-link\" data-tracking-control-name=\"public_jobs_job-result-card_result-card_full-click\" data-tracking-will-navigate=\"\" href=\"https://www.linkedin.com/jobs/view/data-scientist-at-datadog-2209311577?refId=0cd06fc1-321c-4715-ace6-ec6a894ba73c&amp;position=1&amp;pageNum=0&amp;trk=public_jobs_job-result-card_result-card_full-click\"><span class=\"screen-reader-text\">Data Scientist</span></a>"
      ]
     },
     "execution_count": 295,
     "metadata": {},
     "output_type": "execute_result"
    }
   ],
   "source": [
    "jobs[0]"
   ]
  },
  {
   "cell_type": "code",
   "execution_count": 296,
   "metadata": {},
   "outputs": [],
   "source": [
    "request = requests.get(jobs[0]['href'])"
   ]
  },
  {
   "cell_type": "code",
   "execution_count": 297,
   "metadata": {},
   "outputs": [
    {
     "data": {
      "text/plain": [
       "<Response [200]>"
      ]
     },
     "execution_count": 297,
     "metadata": {},
     "output_type": "execute_result"
    }
   ],
   "source": [
    "request"
   ]
  },
  {
   "cell_type": "code",
   "execution_count": null,
   "metadata": {},
   "outputs": [],
   "source": []
  }
 ],
 "metadata": {
  "kernelspec": {
   "display_name": "Python 3",
   "language": "python",
   "name": "python3"
  },
  "language_info": {
   "codemirror_mode": {
    "name": "ipython",
    "version": 3
   },
   "file_extension": ".py",
   "mimetype": "text/x-python",
   "name": "python",
   "nbconvert_exporter": "python",
   "pygments_lexer": "ipython3",
   "version": "3.7.6"
  }
 },
 "nbformat": 4,
 "nbformat_minor": 4
}

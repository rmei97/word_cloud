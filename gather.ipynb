{
 "cells": [
  {
   "cell_type": "code",
   "execution_count": 24,
   "metadata": {},
   "outputs": [],
   "source": [
    "import json"
   ]
  },
  {
   "cell_type": "code",
   "execution_count": 10,
   "metadata": {},
   "outputs": [],
   "source": [
    "from bs4 import BeautifulSoup\n",
    "import requests"
   ]
  },
  {
   "cell_type": "code",
   "execution_count": 196,
   "metadata": {},
   "outputs": [],
   "source": [
    "import os\n",
    "import time\n",
    "\n",
    "from selenium import webdriver"
   ]
  },
  {
   "cell_type": "code",
   "execution_count": 4,
   "metadata": {},
   "outputs": [],
   "source": [
    "from nltk.corpus import stopwords\n",
    "import string"
   ]
  },
  {
   "cell_type": "code",
   "execution_count": null,
   "metadata": {},
   "outputs": [],
   "source": [
    "from nltk.stem.wordnet import WordNetLemmatizer"
   ]
  },
  {
   "cell_type": "code",
   "execution_count": null,
   "metadata": {},
   "outputs": [],
   "source": [
    "from  nltk import FreqDist"
   ]
  },
  {
   "cell_type": "markdown",
   "metadata": {},
   "source": [
    "Start with removing stopwords and punctuations for any text"
   ]
  },
  {
   "cell_type": "code",
   "execution_count": 7,
   "metadata": {},
   "outputs": [
    {
     "data": {
      "text/plain": [
       "'!\"#$%&\\'()*+,-./:;<=>?@[\\\\]^_`{|}~'"
      ]
     },
     "execution_count": 7,
     "metadata": {},
     "output_type": "execute_result"
    }
   ],
   "source": [
    "string.punctuation"
   ]
  },
  {
   "cell_type": "code",
   "execution_count": 8,
   "metadata": {},
   "outputs": [],
   "source": [
    "list_stopwords = stopwords.words('english')\n",
    "list_stopwords += list(string.punctuation)"
   ]
  },
  {
   "cell_type": "markdown",
   "metadata": {},
   "source": [
    "# Gathering"
   ]
  },
  {
   "cell_type": "markdown",
   "metadata": {},
   "source": [
    "Search data scientists positions\n",
    "<https://www.linkedin.com/jobs/search?keywords=Data%20Scientist&location=New%20York%2C%20NY&geoId=102690268&trk=public_jobs_jobs-search-bar_search-submit&redirect=false&position=1&pageNum=0>"
   ]
  },
  {
   "cell_type": "code",
   "execution_count": 258,
   "metadata": {},
   "outputs": [],
   "source": [
    "search = 'https://www.linkedin.com/jobs/search?keywords=Data%20Scientist&location=New%20York%2C%20NY&geoId=102690268&trk=public_jobs_jobs-search-bar_search-submit&redirect=false&position=1&pageNum=0&f_TP=1%2C2%2C3%2C4'\n",
    "DRIVER_PATH = '/usr/local/bin/chromedriver'\n",
    "\n",
    "driver = webdriver.Chrome(executable_path=DRIVER_PATH)\n",
    "driver.get(search)"
   ]
  },
  {
   "cell_type": "code",
   "execution_count": 259,
   "metadata": {},
   "outputs": [
    {
     "ename": "KeyboardInterrupt",
     "evalue": "",
     "output_type": "error",
     "traceback": [
      "\u001b[0;31m---------------------------------------------------------------------------\u001b[0m",
      "\u001b[0;31mKeyboardInterrupt\u001b[0m                         Traceback (most recent call last)",
      "\u001b[0;32m<ipython-input-259-50e1a5199658>\u001b[0m in \u001b[0;36m<module>\u001b[0;34m\u001b[0m\n\u001b[1;32m     12\u001b[0m \u001b[0;34m\u001b[0m\u001b[0m\n\u001b[1;32m     13\u001b[0m     \u001b[0;31m# Wait to load page\u001b[0m\u001b[0;34m\u001b[0m\u001b[0;34m\u001b[0m\u001b[0;34m\u001b[0m\u001b[0m\n\u001b[0;32m---> 14\u001b[0;31m     \u001b[0mtime\u001b[0m\u001b[0;34m.\u001b[0m\u001b[0msleep\u001b[0m\u001b[0;34m(\u001b[0m\u001b[0mSCROLL_PAUSE_TIME\u001b[0m\u001b[0;34m)\u001b[0m\u001b[0;34m\u001b[0m\u001b[0;34m\u001b[0m\u001b[0m\n\u001b[0m\u001b[1;32m     15\u001b[0m \u001b[0;34m\u001b[0m\u001b[0m\n\u001b[1;32m     16\u001b[0m     \u001b[0;31m# Calculate new scroll height and compare with last scroll height\u001b[0m\u001b[0;34m\u001b[0m\u001b[0;34m\u001b[0m\u001b[0;34m\u001b[0m\u001b[0m\n",
      "\u001b[0;31mKeyboardInterrupt\u001b[0m: "
     ]
    }
   ],
   "source": [
    "SCROLL_PAUSE_TIME = 4\n",
    "\n",
    "# Get scroll height\n",
    "last_height = driver.execute_script(\"return document.body.scrollHeight\")\n",
    "\n",
    "#I need to count the number of clicks because there will be a point where I hit the \"See More\" button infinite times\n",
    "#I will use this variable and set the number of click to be a max of something as a condition\n",
    "click_counter = 0\n",
    "while True:\n",
    "    # Scroll down to bottom\n",
    "    driver.execute_script(\"window.scrollTo(0, document.body.scrollHeight);\")\n",
    "\n",
    "    # Wait to load page\n",
    "    time.sleep(SCROLL_PAUSE_TIME)\n",
    "\n",
    "    # Calculate new scroll height and compare with last scroll height\n",
    "    new_height = driver.execute_script(\"return document.body.scrollHeight\")\n",
    "    \n",
    "    #for now using 100 clicks because 99 * 15(jobs per page) < 1500 max number of jobs is less than 1500\n",
    "    if new_height == last_height & click_counter < 100: \n",
    "        try:\n",
    "            #use an XML path instead to get to the see more button\n",
    "            see_more = driver.find_elements_by_xpath('/html/body/main/div/section/button')\n",
    "            click_counter += 1\n",
    "            see_more[0].click()\n",
    "        except:\n",
    "            break\n",
    "    last_height = new_height"
   ]
  },
  {
   "cell_type": "code",
   "execution_count": 255,
   "metadata": {},
   "outputs": [],
   "source": [
    "driver.quit()"
   ]
  },
  {
   "cell_type": "code",
   "execution_count": 185,
   "metadata": {},
   "outputs": [],
   "source": [
    "soup_search = BeautifulSoup(search_request.content)"
   ]
  },
  {
   "cell_type": "code",
   "execution_count": 280,
   "metadata": {},
   "outputs": [],
   "source": [
    "jobs = soup_search.findAll('a', class_ = \"result-card__full-card-link\")"
   ]
  },
  {
   "cell_type": "code",
   "execution_count": 281,
   "metadata": {},
   "outputs": [
    {
     "data": {
      "text/plain": [
       "'https://www.linkedin.com/jobs/view/marketing-data-scientist-at-google-2181386253?refId=ccd09f87-bf62-4ac8-a022-d37ee4f27970&position=1&pageNum=0&trk=public_jobs_job-result-card_result-card_full-click'"
      ]
     },
     "execution_count": 281,
     "metadata": {},
     "output_type": "execute_result"
    }
   ],
   "source": [
    "jobs[0]['href']"
   ]
  },
  {
   "cell_type": "code",
   "execution_count": 189,
   "metadata": {},
   "outputs": [],
   "source": [
    "job_response = requests.get(url = 'https://www.linkedin.com/jobs/view/2167608769')"
   ]
  },
  {
   "cell_type": "code",
   "execution_count": 193,
   "metadata": {},
   "outputs": [],
   "source": [
    "job_soup = BeautifulSoup(job_response.content)"
   ]
  },
  {
   "cell_type": "code",
   "execution_count": 97,
   "metadata": {},
   "outputs": [],
   "source": [
    "#remember to use soup for \n",
    "a = soup.find('div', class_ = 'description__text description__text--rich')"
   ]
  },
  {
   "cell_type": "code",
   "execution_count": null,
   "metadata": {},
   "outputs": [],
   "source": []
  },
  {
   "cell_type": "code",
   "execution_count": null,
   "metadata": {},
   "outputs": [],
   "source": []
  },
  {
   "cell_type": "markdown",
   "metadata": {},
   "source": [
    "Note: started with trying to use a scraper in Selenium to scroll for jobs, but I couldn't get the button to work perfectly. At this point going to just save the html to get the list of links for the jobs and in the future I can automate the process"
   ]
  },
  {
   "cell_type": "code",
   "execution_count": 290,
   "metadata": {
    "scrolled": false
   },
   "outputs": [],
   "source": [
    "with open('jobs.html', 'r') as f:\n",
    "\n",
    "    contents = f.read()\n",
    "\n",
    "    search_soup = BeautifulSoup(contents, 'lxml')\n",
    "    jobs_list = search_soup.findAll('a', class_ = \"result-card__full-card-link\")"
   ]
  },
  {
   "cell_type": "code",
   "execution_count": 291,
   "metadata": {},
   "outputs": [
    {
     "data": {
      "text/plain": [
       "981"
      ]
     },
     "execution_count": 291,
     "metadata": {},
     "output_type": "execute_result"
    }
   ],
   "source": [
    "len(jobs)"
   ]
  },
  {
   "cell_type": "code",
   "execution_count": 293,
   "metadata": {},
   "outputs": [
    {
     "data": {
      "text/plain": [
       "['https://www.linkedin.com/jobs/view/data-scientist-at-datadog-2209311577?refId=0cd06fc1-321c-4715-ace6-ec6a894ba73c&position=1&pageNum=0&trk=public_jobs_job-result-card_result-card_full-click',\n",
       " 'https://www.linkedin.com/jobs/view/data-scientist-analytics-at-okcupid-2210722658?refId=0cd06fc1-321c-4715-ace6-ec6a894ba73c&position=2&pageNum=0&trk=public_jobs_job-result-card_result-card_full-click',\n",
       " 'https://www.linkedin.com/jobs/view/data-scientist-at-ibm-2204969335?refId=0cd06fc1-321c-4715-ace6-ec6a894ba73c&position=3&pageNum=0&trk=public_jobs_job-result-card_result-card_full-click',\n",
       " 'https://www.linkedin.com/jobs/view/data-scientist-advertising-business-at-spotify-2186338356?refId=0cd06fc1-321c-4715-ace6-ec6a894ba73c&position=4&pageNum=0&trk=public_jobs_job-result-card_result-card_full-click',\n",
       " 'https://www.linkedin.com/jobs/view/data-scientist-analytics-at-facebook-2234723136?refId=0cd06fc1-321c-4715-ace6-ec6a894ba73c&position=5&pageNum=0&trk=public_jobs_job-result-card_result-card_full-click']"
      ]
     },
     "execution_count": 293,
     "metadata": {},
     "output_type": "execute_result"
    }
   ],
   "source": [
    "[job['href'] for job in jobs[:5]]"
   ]
  },
  {
   "cell_type": "markdown",
   "metadata": {},
   "source": [
    "<h2> Top Card (about) </h2>\n",
    "\n",
    "    \n",
    "<t1>Individual page scraping"
   ]
  },
  {
   "cell_type": "code",
   "execution_count": 195,
   "metadata": {
    "scrolled": true
   },
   "outputs": [],
   "source": [
    "temp = job_soup.find('div',class_ = \"topcard__content-left\")"
   ]
  },
  {
   "cell_type": "code",
   "execution_count": 118,
   "metadata": {},
   "outputs": [
    {
     "data": {
      "text/plain": [
       "'Data Scientist'"
      ]
     },
     "execution_count": 118,
     "metadata": {},
     "output_type": "execute_result"
    }
   ],
   "source": [
    "title = temp.find('h1', class_ = \"topcard__title\").text\n",
    "title"
   ]
  },
  {
   "cell_type": "code",
   "execution_count": 134,
   "metadata": {},
   "outputs": [
    {
     "data": {
      "text/plain": [
       "'DURLSTON PARTNERS'"
      ]
     },
     "execution_count": 134,
     "metadata": {},
     "output_type": "execute_result"
    }
   ],
   "source": [
    "company = temp.find('a', class_ = \"topcard__org-name-link topcard__flavor--black-link\").text\n",
    "company"
   ]
  },
  {
   "cell_type": "code",
   "execution_count": 138,
   "metadata": {},
   "outputs": [
    {
     "data": {
      "text/plain": [
       "'New York City Metropolitan Area'"
      ]
     },
     "execution_count": 138,
     "metadata": {},
     "output_type": "execute_result"
    }
   ],
   "source": [
    "location = temp.find('span', class_ = \"topcard__flavor topcard__flavor--bullet\").text\n",
    "location"
   ]
  },
  {
   "cell_type": "code",
   "execution_count": 140,
   "metadata": {
    "scrolled": true
   },
   "outputs": [
    {
     "data": {
      "text/plain": [
       "'$100,000.00 - $140,000.00'"
      ]
     },
     "execution_count": 140,
     "metadata": {},
     "output_type": "execute_result"
    }
   ],
   "source": [
    "salary = temp.find('div',class_ = \"salary topcard__flavor--salary\").text\n",
    "salary"
   ]
  },
  {
   "cell_type": "markdown",
   "metadata": {},
   "source": [
    "<h3> Job Description"
   ]
  },
  {
   "cell_type": "code",
   "execution_count": 142,
   "metadata": {},
   "outputs": [
    {
     "data": {
      "text/plain": [
       "'A VC fund is looking to add a data scientist to their team. This person will perform data analysis and research on alternative data to drive insights and impact investment decisions.ResponsibilitiesApply data and analytical skills throughout the investment process to make significant contributions to research, idea generation, portfolio construction, performance analytics, and team workflowDevelop a strategic plan and roadmap for data research strategy and serve as an expert statistician/data scientist on an investment teamPerform analyses on large datasets to extract actionable insights that will help drive decisions across the businessCommunicate data-driven insights and recommendations to key stakeholdersRequirementsUndergraduate degree or higher in science, computer science, statistics, economics, mathematics, or similar quantitative disciplineStrong programming skills in SQL/NoSQL and at least one of the following Python, R, or C++Ability to balance strategic vision for the team with strong attention to detail and commercial awareness in a fast-paced environmentExperience working in Management Consulting is strongly desired'"
      ]
     },
     "execution_count": 142,
     "metadata": {},
     "output_type": "execute_result"
    }
   ],
   "source": [
    "description = soup.find('div', class_ = \"show-more-less-html__markup show-more-less-html__markup--clamp-after-5\").text\n",
    "description"
   ]
  },
  {
   "cell_type": "markdown",
   "metadata": {},
   "source": []
  },
  {
   "cell_type": "markdown",
   "metadata": {},
   "source": []
  },
  {
   "cell_type": "markdown",
   "metadata": {},
   "source": [
    "Requesting and getting data"
   ]
  },
  {
   "cell_type": "code",
   "execution_count": 336,
   "metadata": {},
   "outputs": [
    {
     "data": {
      "text/plain": [
       "'https://www.linkedin.com/jobs/view/data-scientist-at-saks-fifth-avenue-2163555467?refId=0cd06fc1-321c-4715-ace6-ec6a894ba73c&position=11&pageNum=0&trk=public_jobs_job-result-card_result-card_full-click'"
      ]
     },
     "execution_count": 336,
     "metadata": {},
     "output_type": "execute_result"
    }
   ],
   "source": [
    "jobs[10]['href']"
   ]
  },
  {
   "cell_type": "code",
   "execution_count": 328,
   "metadata": {},
   "outputs": [],
   "source": [
    "request = requests.get(jobs[10]['href'], 'html')"
   ]
  },
  {
   "cell_type": "code",
   "execution_count": 330,
   "metadata": {},
   "outputs": [],
   "source": [
    "posting_soup = BeautifulSoup(request.content)"
   ]
  },
  {
   "cell_type": "code",
   "execution_count": 356,
   "metadata": {},
   "outputs": [
    {
     "ename": "AttributeError",
     "evalue": "'NoneType' object has no attribute 'text'",
     "output_type": "error",
     "traceback": [
      "\u001b[0;31m---------------------------------------------------------------------------\u001b[0m",
      "\u001b[0;31mAttributeError\u001b[0m                            Traceback (most recent call last)",
      "\u001b[0;32m<ipython-input-356-acbb18c64a07>\u001b[0m in \u001b[0;36m<module>\u001b[0;34m\u001b[0m\n\u001b[0;32m----> 1\u001b[0;31m \u001b[0msalary\u001b[0m \u001b[0;34m=\u001b[0m \u001b[0mposting_soup\u001b[0m\u001b[0;34m.\u001b[0m\u001b[0mfind\u001b[0m\u001b[0;34m(\u001b[0m\u001b[0;34m'div'\u001b[0m\u001b[0;34m,\u001b[0m\u001b[0mclass_\u001b[0m \u001b[0;34m=\u001b[0m \u001b[0;34m\"salary topcard__flavor--salary\"\u001b[0m\u001b[0;34m)\u001b[0m\u001b[0;34m.\u001b[0m\u001b[0mtext\u001b[0m\u001b[0;34m\u001b[0m\u001b[0;34m\u001b[0m\u001b[0m\n\u001b[0m\u001b[1;32m      2\u001b[0m \u001b[0msalary\u001b[0m\u001b[0;34m\u001b[0m\u001b[0;34m\u001b[0m\u001b[0m\n",
      "\u001b[0;31mAttributeError\u001b[0m: 'NoneType' object has no attribute 'text'"
     ]
    }
   ],
   "source": [
    "salary = posting_soup.find('div',class_ = \"salary topcard__flavor--salary\").text\n",
    "salary"
   ]
  },
  {
   "cell_type": "code",
   "execution_count": 346,
   "metadata": {},
   "outputs": [],
   "source": [
    "description = posting_soup.find('div', class_ = \"show-more-less-html__markup show-more-less-html__markup--clamp-after-5\").text"
   ]
  },
  {
   "cell_type": "code",
   "execution_count": 347,
   "metadata": {},
   "outputs": [
    {
     "data": {
      "text/plain": [
       "\"What This Position Is All AboutReporting to the Manager, Analytics, the incumbent will primarily focus on driving business results through development and execution of world class analytics to meet evolving business needs. He/she will be HBC’s analytics thought leader and focus on developing new programs and optimizing existing personalization tactics across website, email, Mobile site, app and stores.Who You AreUnderstand business problems and identify analytic needs including machine learning algorithms suitable for solving said problemWork collaboratively with other team members to define the advanced analytical modeling capabilities, enhancements and outcomes required to enable marketing & personalization use cases Perform data engineering tasks required for machine learning use case using PySpark/SQL to aggregate, transform, and check multiple data sources into a centralized repository on AWSBuild, maintain and improve machine learning models to perform at scale in a production ready environmentDevelop new features and augment tools based on business requirementsBuild and maintain clear record of data hierarchy / lineage, to support best-in-class database management and model buildingWork collaboratively with the Data Architects, Data Scientists, and other members of the Analytics team to design and build all necessary data pipelines and support other efforts required for the personalization visionWork with other members of the Personalization Data, Analytics, and Tech teams to peer review code, write unit tests, and provide feedback on data structuring and modeling approachesDesign the test and learn / measurement approaches and techniques for newly deployed use casesBe a SME of all data sources such as browse, all channel transactions, product, market research, credit, loyalty and 3rd party data to drive efficiencies, maximize profitability, drive customer loyalty, and optimize promotional strategies.Participate in the strategic development of system capabilities within advanced analytics and modeling, data mining and database marketingYou Also Have3+ years structuring databases and manipulating large data sets 2+ years writing code in relevant languages (e.g. Python, Hive, SQL, Java or Scala) 1 to 3 years of experience in marketing analytics and database marketing.1 to 2 years of experience in supporting personalization strategies for an e-commerce industry. Retail experience preferred.Bachelor's degree required; preferably in Business, Marketing or a quantitative field like Economics, Mathematics or StatisticsMaster's preferredStrong Microsoft Excel skills. Ability to code macros in VBA a plus.Proven ability to apply findings to business problems to lift revenue and profits.Knowledge of web analytics packages (e.g. Omniture, Coremetrics or Google Analytics).As The Data Scientist, You Will Demonstrated critical thinking and problem-solving skills, leveraging data and working side-by-side with business owners to answer business questions Prior experience building complex machine learning models Knowledge of relevant languages/toolse.g. advanced Python(pandas, numpy, sklearn, scipy, statsmodels), SQL (analytic functions, subqueries, etc), Spark (inclMLlib)-using pySpark & Spark SQL, Git & Github, AWS EMR, Airflow, AWS SageMaker, Dataiku or similar platformsAbility to apply the following modeling approaches / classes of algorithms to business problems e.g. regressions, K Nearest Neighbors, Random Forest, GBM, Neural Networks, boosted trees, LDA, collaborative filtering, BayesianAdvanced knowledge of model evaluation, tuning, and performance; familiarity with machine learning, mathematical, and statistical packages Experience with A/B statistical inference testing, design of experiments, and standardization techniques Experience working side-by-side with business owners, and translating business needs across disciplines into advanced analytics projects with measurable business impactThank you for your interest with HBC. We look forward to reviewing your application.HBC provides equal employment opportunities (EEO) to all employees and applicants for employment without regard to race, color, religion, sex, national origin, age, disability or genetics. In addition to federal law requirements, HBC complies with applicable state and local laws governing nondiscrimination in employment in every location in which the company has facilities. This policy applies to all terms and conditions of employment, including recruiting, hiring, placement, promotion, termination, layoff, recall, transfer, leaves of absence, compensation and training.HBC welcomes all applicants for this position. Should you be individually selected to participate in an assessment or selection process, accommodations are available upon request in relation to the materials or processes to be used.\""
      ]
     },
     "execution_count": 347,
     "metadata": {},
     "output_type": "execute_result"
    }
   ],
   "source": [
    "description"
   ]
  },
  {
   "cell_type": "code",
   "execution_count": 341,
   "metadata": {},
   "outputs": [
    {
     "data": {
      "text/plain": [
       "'Data Scientist'"
      ]
     },
     "execution_count": 341,
     "metadata": {},
     "output_type": "execute_result"
    }
   ],
   "source": [
    "\ttitle = posting_soup.find('h1', class_ = \"topcard__title\").text\n",
    "title"
   ]
  },
  {
   "cell_type": "code",
   "execution_count": 342,
   "metadata": {},
   "outputs": [
    {
     "data": {
      "text/plain": [
       "'Saks Fifth Avenue'"
      ]
     },
     "execution_count": 342,
     "metadata": {},
     "output_type": "execute_result"
    }
   ],
   "source": [
    "\tcompany = posting_soup.find('a', class_ = \"topcard__org-name-link topcard__flavor--black-link\").text\n",
    "company"
   ]
  },
  {
   "cell_type": "code",
   "execution_count": 344,
   "metadata": {},
   "outputs": [
    {
     "data": {
      "text/plain": [
       "'New York, NY'"
      ]
     },
     "execution_count": 344,
     "metadata": {},
     "output_type": "execute_result"
    }
   ],
   "source": [
    "\tlocation = posting_soup.find('span', class_ = \"topcard__flavor topcard__flavor--bullet\").text\n",
    "location"
   ]
  },
  {
   "cell_type": "code",
   "execution_count": 348,
   "metadata": {},
   "outputs": [
    {
     "data": {
      "text/plain": [
       "'https://www.linkedin.com/jobs/view/data-scientist-at-datadog-2209311577?refId=0cd06fc1-321c-4715-ace6-ec6a894ba73c&position=1&pageNum=0&trk=public_jobs_job-result-card_result-card_full-click'"
      ]
     },
     "execution_count": 348,
     "metadata": {},
     "output_type": "execute_result"
    }
   ],
   "source": [
    "jobs[0]['href']"
   ]
  },
  {
   "cell_type": "code",
   "execution_count": 354,
   "metadata": {},
   "outputs": [
    {
     "data": {
      "text/plain": [
       "\"What This Position Is All AboutReporting to the Manager, Analytics, the incumbent will primarily focus on driving business results through development and execution of world class analytics to meet evolving business needs. He/she will be HBC’s analytics thought leader and focus on developing new programs and optimizing existing personalization tactics across website, email, Mobile site, app and stores.Who You AreUnderstand business problems and identify analytic needs including machine learning algorithms suitable for solving said problemWork collaboratively with other team members to define the advanced analytical modeling capabilities, enhancements and outcomes required to enable marketing & personalization use cases Perform data engineering tasks required for machine learning use case using PySpark/SQL to aggregate, transform, and check multiple data sources into a centralized repository on AWSBuild, maintain and improve machine learning models to perform at scale in a production ready environmentDevelop new features and augment tools based on business requirementsBuild and maintain clear record of data hierarchy / lineage, to support best-in-class database management and model buildingWork collaboratively with the Data Architects, Data Scientists, and other members of the Analytics team to design and build all necessary data pipelines and support other efforts required for the personalization visionWork with other members of the Personalization Data, Analytics, and Tech teams to peer review code, write unit tests, and provide feedback on data structuring and modeling approachesDesign the test and learn / measurement approaches and techniques for newly deployed use casesBe a SME of all data sources such as browse, all channel transactions, product, market research, credit, loyalty and 3rd party data to drive efficiencies, maximize profitability, drive customer loyalty, and optimize promotional strategies.Participate in the strategic development of system capabilities within advanced analytics and modeling, data mining and database marketingYou Also Have3+ years structuring databases and manipulating large data sets 2+ years writing code in relevant languages (e.g. Python, Hive, SQL, Java or Scala) 1 to 3 years of experience in marketing analytics and database marketing.1 to 2 years of experience in supporting personalization strategies for an e-commerce industry. Retail experience preferred.Bachelor's degree required; preferably in Business, Marketing or a quantitative field like Economics, Mathematics or StatisticsMaster's preferredStrong Microsoft Excel skills. Ability to code macros in VBA a plus.Proven ability to apply findings to business problems to lift revenue and profits.Knowledge of web analytics packages (e.g. Omniture, Coremetrics or Google Analytics).As The Data Scientist, You Will Demonstrated critical thinking and problem-solving skills, leveraging data and working side-by-side with business owners to answer business questions Prior experience building complex machine learning models Knowledge of relevant languages/toolse.g. advanced Python(pandas, numpy, sklearn, scipy, statsmodels), SQL (analytic functions, subqueries, etc), Spark (inclMLlib)-using pySpark & Spark SQL, Git & Github, AWS EMR, Airflow, AWS SageMaker, Dataiku or similar platformsAbility to apply the following modeling approaches / classes of algorithms to business problems e.g. regressions, K Nearest Neighbors, Random Forest, GBM, Neural Networks, boosted trees, LDA, collaborative filtering, BayesianAdvanced knowledge of model evaluation, tuning, and performance; familiarity with machine learning, mathematical, and statistical packages Experience with A/B statistical inference testing, design of experiments, and standardization techniques Experience working side-by-side with business owners, and translating business needs across disciplines into advanced analytics projects with measurable business impactThank you for your interest with HBC. We look forward to reviewing your application.HBC provides equal employment opportunities (EEO) to all employees and applicants for employment without regard to race, color, religion, sex, national origin, age, disability or genetics. In addition to federal law requirements, HBC complies with applicable state and local laws governing nondiscrimination in employment in every location in which the company has facilities. This policy applies to all terms and conditions of employment, including recruiting, hiring, placement, promotion, termination, layoff, recall, transfer, leaves of absence, compensation and training.HBC welcomes all applicants for this position. Should you be individually selected to participate in an assessment or selection process, accommodations are available upon request in relation to the materials or processes to be used.Show moreShow less\""
      ]
     },
     "execution_count": 354,
     "metadata": {},
     "output_type": "execute_result"
    }
   ],
   "source": [
    "posting_soup.find('div', class_ = 'description__text description__text--rich').text"
   ]
  },
  {
   "cell_type": "markdown",
   "metadata": {},
   "source": [
    "## SQLite"
   ]
  },
  {
   "cell_type": "code",
   "execution_count": 438,
   "metadata": {},
   "outputs": [],
   "source": [
    "conn.close()\n"
   ]
  },
  {
   "cell_type": "code",
   "execution_count": 439,
   "metadata": {},
   "outputs": [],
   "source": [
    "import sqlite3"
   ]
  },
  {
   "cell_type": "code",
   "execution_count": 441,
   "metadata": {},
   "outputs": [
    {
     "ename": "OperationalError",
     "evalue": "near \"index\": syntax error",
     "output_type": "error",
     "traceback": [
      "\u001b[0;31m---------------------------------------------------------------------------\u001b[0m",
      "\u001b[0;31mOperationalError\u001b[0m                          Traceback (most recent call last)",
      "\u001b[0;32m<ipython-input-441-2bebacf2eabd>\u001b[0m in \u001b[0;36m<module>\u001b[0;34m\u001b[0m\n\u001b[1;32m      4\u001b[0m \u001b[0;34m\u001b[0m\u001b[0m\n\u001b[1;32m      5\u001b[0m \u001b[0mquery\u001b[0m \u001b[0;34m=\u001b[0m \u001b[0;34m\"\"\"CREATE TABLE listings (index INTEGER, title TEXT NOT NULL, company TEXT NOT NULL, location TEXT NOT NULL, description TEXT NOT NULL)\"\"\"\u001b[0m\u001b[0;34m\u001b[0m\u001b[0;34m\u001b[0m\u001b[0m\n\u001b[0;32m----> 6\u001b[0;31m \u001b[0mc\u001b[0m\u001b[0;34m.\u001b[0m\u001b[0mexecute\u001b[0m\u001b[0;34m(\u001b[0m\u001b[0mquery\u001b[0m\u001b[0;34m)\u001b[0m\u001b[0;34m\u001b[0m\u001b[0;34m\u001b[0m\u001b[0m\n\u001b[0m",
      "\u001b[0;31mOperationalError\u001b[0m: near \"index\": syntax error"
     ]
    }
   ],
   "source": [
    "conn = sqlite3.connect('jobs.db')\n",
    "\n",
    "c = conn.cursor()\n",
    "\n",
    "query = \"\"\"CREATE TABLE listings (index INTEGER, title TEXT NOT NULL, company TEXT NOT NULL, location TEXT NOT NULL, description TEXT NOT NULL)\"\"\"\n",
    "c.execute(query)"
   ]
  },
  {
   "cell_type": "code",
   "execution_count": 405,
   "metadata": {},
   "outputs": [],
   "source": [
    "def connect_to_db():\n",
    "    conn = sqlite3.connect('jobs.db')\n",
    "    c = conn.cursor()\n",
    "    try:\n",
    "        query = \"\"\"CREATE TABLE listings (index INTEGER PRIMARY KEY, title TEXT NOT NULL, company TEXT NOT NULL, location TEXT NOT NULL, description TEXT NOT NULL)\"\"\"\n",
    "        c.execute(query)\n",
    "    except: #trying to catch OperationalError but will commit a sin of except pass:\n",
    "        pass"
   ]
  },
  {
   "cell_type": "code",
   "execution_count": 407,
   "metadata": {},
   "outputs": [
    {
     "name": "stdout",
     "output_type": "stream",
     "text": [
      "1\n"
     ]
    }
   ],
   "source": [
    "connect_to_db\n",
    "print(1)"
   ]
  },
  {
   "cell_type": "code",
   "execution_count": 380,
   "metadata": {},
   "outputs": [],
   "source": [
    "test = sqlite3.connect('test.db')"
   ]
  },
  {
   "cell_type": "code",
   "execution_count": 382,
   "metadata": {},
   "outputs": [],
   "source": [
    "test_c = test.cursor()"
   ]
  },
  {
   "cell_type": "code",
   "execution_count": 444,
   "metadata": {},
   "outputs": [
    {
     "data": {
      "text/plain": [
       "<sqlite3.Cursor at 0x1a22af9b90>"
      ]
     },
     "execution_count": 444,
     "metadata": {},
     "output_type": "execute_result"
    }
   ],
   "source": [
    "query = \"\"\"CREATE TABLE if not exists listings (num INTEGER PRIMARY KEY, title TEXT NOT NULL, company TEXT NOT NULL, location TEXT NOT NULL, description TEXT NOT NULL)\"\"\"\n",
    "c.execute(query)"
   ]
  },
  {
   "cell_type": "code",
   "execution_count": 445,
   "metadata": {},
   "outputs": [],
   "source": [
    "a = [1]"
   ]
  },
  {
   "cell_type": "code",
   "execution_count": 446,
   "metadata": {},
   "outputs": [],
   "source": [
    "b = ['test']"
   ]
  },
  {
   "cell_type": "code",
   "execution_count": 447,
   "metadata": {},
   "outputs": [
    {
     "data": {
      "text/plain": [
       "[1, 'test']"
      ]
     },
     "execution_count": 447,
     "metadata": {},
     "output_type": "execute_result"
    }
   ],
   "source": [
    "a + b"
   ]
  },
  {
   "cell_type": "code",
   "execution_count": 395,
   "metadata": {},
   "outputs": [],
   "source": [
    "def connect_to_db(table):\n",
    "    try:\n",
    "        conn = sqlite3.connect(table)\n",
    "        c = conn.cursor()\n",
    "        query = \"\"\"CREATE TABLE listings (index INTEGER PRIMARY KEY, title TEXT NOT NULL, company TEXT NOT NULL, location TEXT NOT NULL, description TEXT NOT NULL)\"\"\"\n",
    "        c.execute(query)\n",
    "    except OperationalError as e:\n",
    "        return c"
   ]
  },
  {
   "cell_type": "code",
   "execution_count": 364,
   "metadata": {},
   "outputs": [],
   "source": [
    "c.execute(\"\"\"SELECT * FROM listings\"\"\")\n",
    "rows = c.fetchall()\n",
    "\n",
    "for row in rows[:5]:\n",
    "    print(1)"
   ]
  },
  {
   "cell_type": "code",
   "execution_count": 374,
   "metadata": {},
   "outputs": [],
   "source": [
    "data = ['test1','test2','test3','test4']\n",
    "data2 = ['test5','test6','test7','test8']"
   ]
  },
  {
   "cell_type": "code",
   "execution_count": 375,
   "metadata": {},
   "outputs": [
    {
     "data": {
      "text/plain": [
       "<sqlite3.Cursor at 0x1a23a9b9d0>"
      ]
     },
     "execution_count": 375,
     "metadata": {},
     "output_type": "execute_result"
    }
   ],
   "source": [
    "c.execute(\"\"\"INSERT INTO listings VALUES(?,?,?,?)\"\"\", data2)"
   ]
  },
  {
   "cell_type": "code",
   "execution_count": 376,
   "metadata": {
    "scrolled": true
   },
   "outputs": [
    {
     "data": {
      "text/plain": [
       "<sqlite3.Cursor at 0x1a23a9b9d0>"
      ]
     },
     "execution_count": 376,
     "metadata": {},
     "output_type": "execute_result"
    }
   ],
   "source": [
    "c.execute(\"\"\"SELECT * FROM listings\"\"\")"
   ]
  },
  {
   "cell_type": "code",
   "execution_count": 377,
   "metadata": {},
   "outputs": [
    {
     "name": "stdout",
     "output_type": "stream",
     "text": [
      "('test1', 'test2', 'test3', 'test4')\n",
      "('test5', 'test6', 'test7', 'test8')\n"
     ]
    }
   ],
   "source": [
    "rows = c.fetchall()\n",
    "\n",
    "for row in rows[:5]:\n",
    "    print(row)"
   ]
  },
  {
   "cell_type": "code",
   "execution_count": 417,
   "metadata": {},
   "outputs": [],
   "source": [
    "conn.close()"
   ]
  },
  {
   "cell_type": "code",
   "execution_count": 413,
   "metadata": {},
   "outputs": [],
   "source": [
    "connect_to_db()"
   ]
  },
  {
   "cell_type": "code",
   "execution_count": 448,
   "metadata": {},
   "outputs": [],
   "source": [
    "conn = sqlite3.connect('jobs.db')\n",
    "\n",
    "c = conn.cursor()"
   ]
  },
  {
   "cell_type": "code",
   "execution_count": 449,
   "metadata": {},
   "outputs": [
    {
     "name": "stdout",
     "output_type": "stream",
     "text": [
      "(1, 'Data Scientist', 'Datadog', 'New York, NY', \"About DatadogWe're on a mission to build the best platform in the world for engineers to understand and scale their systems, applications, and teams. We operate at high scale—trillions of data points per day—providing always-on alerting, metrics visualization, logs, and application tracing for tens of thousands of companies. Our engineering culture values pragmatism, honesty, and simplicity to solve hard problems the right way.The OpportunityYou will have a fantastic team of data engineers to support you, a collaborative environment to encourage your work, and the best technologies for performing data science at high scale in your toolkit.You Will Present the latest academic research papers to your team. Research and benchmark the latest algorithms that can be used for our particular use-cases. Apply machine learning algorithms and statistical techniques to build new product features. Deploy a new feature to production, instantly affecting customers with your work. Mentor other data scientists on your team. Explore and find meaning in extremely high volumes of data. Investigate and fix a production issue from a service your team owns. Requirements You have 2 + years professional experience You are fluent with SQL / relational algebra. You have mastered working with data in a language such as Python, R, or Julia. You’ve done data science at high scale with tools like Hadoop and Spark. You have backend programming experience in one or more languages. You have significant experience applying machine learning to real business problems. You want to work in a fast, high-growth startup environment and thrive on autonomy. You care about code simplicity and performance. You have a BS/MS/PhD in a scientific field or equivalent experience. You can explain complex ideas and algorithms in understandable ways. Bonus Points You’ve written production data pipelines. You’re familiar with time series analysis.Show moreShow less\")\n",
      "(2, 'Data Scientist- Analytics', 'OkCupid', 'New York, NY', 'OkCupid is looking for an analyst to contribute to our data-driven organization. We enjoy working on a product that helps millions of people find love and get a great sense of satisfaction in seeing our hard work make a difference. If that’s the kind of thing that appeals to you, you’re probably a good fit for OkCupidAbout the Team:OkCupid’s Analytics function is a close knit team of 4, we sit embedded in various business functions, and we each bring our diverse and unique experience to the team. Our team handles all aspects of the analytics life cycle, including data modelling and warehousing, reporting, traditional analytics, and statistical modeling.In this role, you will:Partner with Product Managers and Senior leadership to recommend appropriate actionsUtilize statistical modelling techniques where appropriate to drive business decisionsOwn experimentation for your product team by designing and implementing AB tests and network effect testsAnalyze company performance across Product, Marketing, Finance, and more as neededPrepare trend analysis and investigative reporting for product teams and senior managementWe’re looking for:3+ YOE with at least one statistical programming language: Python, R, SAS, Julia (Python Preferred)3+ YOE using SQL with any databaseStrong analytical skills and the ability to turn unstructured problems into easily digestible analyses and conclusionsPrevious experience analyzing behavior at an internet company, preferably in a B2C environmentAbility to operate independently and proactively, we don’t just want you generating reports, we want you helping drive the business forwardsExtra points for:Bachelor’s degree in Economics, Computer Science, Mathematics, or other related fields a plusExperience with at least one BI tool (Tableau, Looker, Periscope, etc)Basic familiarity with Machine Learning conceptsAdvanced statistical knowledgeWhat’s in it for you? Competitive salary and full benefits, including Medical, Dental, Vision, and 401k Workstation and tools of your choice Paid attendance to conferences Daily complimentary catered lunch from some of NYC’s top restaurants, and an endless supply of snacks & drinks Company funded happy hours/events Discounted membership to some amazing NYC facilities including Chelsea Piers Gym Generous maternity and/or paternity leave and contributions towards fertility preservation A sunny office full of incredibly curious and friendly peopleOkCupid is an equal opportunity employer. We celebrate diversity and are deeply committed to fostering an inclusive environment for all employees.Show moreShow less')\n",
      "(3, 'Data Scientist', 'IBM', 'New York, NY', \"IntroductionAs a Data Scientist at IBM, you will help transform our clients’ data into tangible business value by analyzing information, communicating outcomes and collaborating on product development. Work with Best in Class open source and visual tools, along with the most flexible and scalable deployment options. Whether it’s investigating patient trends or weather patterns, you will work to solve real world problems for the industries transforming how we live.Your Role and ResponsibilitiesThis position is a Data Scientist role in CIO supporting DGC that is focused on leading the design, development, and implementation of machine learning models to drive business results.The Office of the Chief Information Officer (CIO) owns IBM’s IT strategy and provides the tools, workstations, devices, and infrastructure that IBMers use to do their jobs every day. Put simply, our mission is to create a productive environment for IBM's 365,000 worldwide employees.Join us as we lead with designto drive simplicity and ease of use,engineering the systems that run the business, andinnovatingto transform the business. Responsibilities include building innovative analytical models, testing and validating models, data gathering and research, fact-based quantitative analysis, systematic model explainability, interpreting the models in business terms, and communicating findings to business leaders. The Data Scientist will provide direction, guidance, and oversight for other data scientists on the team, as well as manage modelpipeline and perform change management.As a Data Scientist at IBM, you will help transform data into tangible business value by analyzing information, communicating outcomes and collaborating on product development.Required Technical and Professional ExpertiseBA/BS in Data Science, Machine Learning, Statistics, or related STEM fieldProficiency in PythonExperience with machine learning libraries (e.g., scikit-learn)Experience or coursework in machine learning and/or natural language processingStatistical modeling through software (e.g. SPSS) or programming language (e.g. Python or R)Understanding of database and analytical technologies in the industryDemonstrated ability to think strategically about business, product, and technical challenges in an enterprise environmentExperience in Agile developmentExcellent oral and written communication skillsAbility to collaborate in a team environmentPreferred Technical And Professional ExpertiseMS in Data Science, Machine Learning, Statistics, or related STEM fieldExperience and/or coursework in Deep LearningProficiency with other programming languages such as R and SQLProfessional experience with Spark and/or TensorFlowHands-on experience deploying analytical models to solve business problemsAbility to develop experimental and analytical plans for data modeling processesExperience with data visualization toolsAbout Business UnitThe Office of the Chief Information Officer (CIO) owns IBM’s IT strategy and provides the tools, workstations, devices, and infrastructure that IBMers use to do their jobs every day. Put simply, our mission is to create a productive environment for IBM's 365,000 worldwide employees. Join us as we lead with with design to drive simplicity and ease of use, engineering the systems that run the business, and innovating to transform the business.Your Life @ IBMWhat matters to you when you’re looking for your next career challenge?Maybe you want to get involved in work that really changes the world? What about somewhere with incredible and diverse career and development opportunities – where you can truly discover your passion? Are you looking for a culture of openness, collaboration and trust – where everyone has a voice? What about all of these? If so, then IBM could be your next career challenge. Join us, not to do something better, but to attempt things you never thought possible.Impact. Inclusion. Infinite Experiences. Do your best work ever.About IBMIBM’s greatest invention is the IBMer. We believe that progress is made through progressive thinking, progressive leadership, progressive policy and progressive action. IBMers believe that the application of intelligence, reason and science can improve business, society and the human condition. Restlessly reinventing since 1911, we are the largest technology and consulting employer in the world, with more than 380,000 IBMers serving clients in 170 countries.Location StatementIBM will not be providing visa sponsorship for this position now or in the future. Therefore, in order to be considered for this position, you must have the ability to work without a need for current or future visa sponsorship.Being You @ IBMIBM is committed to creating a diverse environment and is proud to be an equal opportunity employer. All qualified applicants will receive consideration for employment without regard to race, color, religion, gender, gender identity or expression, sexual orientation, national origin, genetics, disability, age, or veteran status. IBM is also committed to compliance with all fair employment practices regarding citizenship and immigration status.Show moreShow less\")\n"
     ]
    }
   ],
   "source": [
    "c.execute(\"\"\"SELECT * FROM listings\"\"\")\n",
    "rows = c.fetchall()\n",
    "\n",
    "for row in rows[:5]:\n",
    "    print(row)"
   ]
  },
  {
   "cell_type": "code",
   "execution_count": 450,
   "metadata": {},
   "outputs": [],
   "source": [
    "conn.close()"
   ]
  },
  {
   "cell_type": "code",
   "execution_count": null,
   "metadata": {},
   "outputs": [],
   "source": []
  }
 ],
 "metadata": {
  "kernelspec": {
   "display_name": "Python 3",
   "language": "python",
   "name": "python3"
  },
  "language_info": {
   "codemirror_mode": {
    "name": "ipython",
    "version": 3
   },
   "file_extension": ".py",
   "mimetype": "text/x-python",
   "name": "python",
   "nbconvert_exporter": "python",
   "pygments_lexer": "ipython3",
   "version": "3.7.6"
  }
 },
 "nbformat": 4,
 "nbformat_minor": 4
}

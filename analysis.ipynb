{
 "cells": [
  {
   "cell_type": "code",
   "execution_count": 67,
   "metadata": {},
   "outputs": [],
   "source": [
    "import matplotlib.pyplot as plt"
   ]
  },
  {
   "cell_type": "code",
   "execution_count": 74,
   "metadata": {},
   "outputs": [
    {
     "name": "stderr",
     "output_type": "stream",
     "text": [
      "[nltk_data] Downloading package punkt to /Users/Rich/nltk_data...\n",
      "[nltk_data]   Package punkt is already up-to-date!\n",
      "[nltk_data] Downloading package wordnet to /Users/Rich/nltk_data...\n",
      "[nltk_data]   Unzipping corpora/wordnet.zip.\n"
     ]
    }
   ],
   "source": [
    "from nltk.stem.wordnet import WordNetLemmatizer\n",
    "\n",
    "import nltk  # FreqDist, word_tokenize\n",
    "nltk.download('punkt')\n",
    "nltk.download('wordnet')\n",
    "from nltk.corpus import stopwords\n",
    "\n",
    "import string"
   ]
  },
  {
   "cell_type": "code",
   "execution_count": 2,
   "metadata": {},
   "outputs": [],
   "source": [
    "import sqlite3"
   ]
  },
  {
   "cell_type": "code",
   "execution_count": 3,
   "metadata": {},
   "outputs": [],
   "source": [
    "conn = sqlite3.connect('jobs.db')\n",
    "c = conn.cursor()"
   ]
  },
  {
   "cell_type": "code",
   "execution_count": 5,
   "metadata": {},
   "outputs": [
    {
     "name": "stdout",
     "output_type": "stream",
     "text": [
      "980\n"
     ]
    }
   ],
   "source": [
    "c.execute(\"\"\"SELECT company, description FROM listings\"\"\")\n",
    "\n",
    "rows = c.fetchall()\n",
    "\n",
    "print(len(rows))"
   ]
  },
  {
   "cell_type": "code",
   "execution_count": 6,
   "metadata": {},
   "outputs": [
    {
     "data": {
      "text/plain": [
       "(0,\n",
       " 'Data Scientist',\n",
       " 'Datadog',\n",
       " 'New York, NY',\n",
       " \"About DatadogWe're on a mission to build the best platform in the world for engineers to understand and scale their systems, applications, and teams. We operate at high scale—trillions of data points per day—providing always-on alerting, metrics visualization, logs, and application tracing for tens of thousands of companies. Our engineering culture values pragmatism, honesty, and simplicity to solve hard problems the right way.The OpportunityYou will have a fantastic team of data engineers to support you, a collaborative environment to encourage your work, and the best technologies for performing data science at high scale in your toolkit.You Will Present the latest academic research papers to your team. Research and benchmark the latest algorithms that can be used for our particular use-cases. Apply machine learning algorithms and statistical techniques to build new product features. Deploy a new feature to production, instantly affecting customers with your work. Mentor other data scientists on your team. Explore and find meaning in extremely high volumes of data. Investigate and fix a production issue from a service your team owns. Requirements You have 2 + years professional experience You are fluent with SQL / relational algebra. You have mastered working with data in a language such as Python, R, or Julia. You’ve done data science at high scale with tools like Hadoop and Spark. You have backend programming experience in one or more languages. You have significant experience applying machine learning to real business problems. You want to work in a fast, high-growth startup environment and thrive on autonomy. You care about code simplicity and performance. You have a BS/MS/PhD in a scientific field or equivalent experience. You can explain complex ideas and algorithms in understandable ways. Bonus Points You’ve written production data pipelines. You’re familiar with time series analysis.Show moreShow less\")"
      ]
     },
     "execution_count": 6,
     "metadata": {},
     "output_type": "execute_result"
    }
   ],
   "source": [
    "rows[0]"
   ]
  },
  {
   "cell_type": "code",
   "execution_count": 11,
   "metadata": {},
   "outputs": [
    {
     "name": "stdout",
     "output_type": "stream",
     "text": [
      "About DatadogWe're on a mission to build the best platform in the world for engineers to understand and scale their systems, applications, and teams. We operate at high scale—trillions of data points per day—providing always-on alerting, metrics visualization, logs, and application tracing for tens of thousands of companies. Our engineering culture values pragmatism, honesty, and simplicity to solve hard problems the right way.The OpportunityYou will have a fantastic team of data engineers to support you, a collaborative environment to encourage your work, and the best technologies for performing data science at high scale in your toolkit.You Will Present the latest academic research papers to your team. Research and benchmark the latest algorithms that can be used for our particular use-cases. Apply machine learning algorithms and statistical techniques to build new product features. Deploy a new feature to production, instantly affecting customers with your work. Mentor other data scientists on your team. Explore and find meaning in extremely high volumes of data. Investigate and fix a production issue from a service your team owns. Requirements You have 2 + years professional experience You are fluent with SQL / relational algebra. You have mastered working with data in a language such as Python, R, or Julia. You’ve done data science at high scale with tools like Hadoop and Spark. You have backend programming experience in one or more languages. You have significant experience applying machine learning to real business problems. You want to work in a fast, high-growth startup environment and thrive on autonomy. You care about code simplicity and performance. You have a BS/MS/PhD in a scientific field or equivalent experience. You can explain complex ideas and algorithms in understandable ways. Bonus Points You’ve written production data pipelines. You’re familiar with time series analysis.Show moreShow less\n"
     ]
    }
   ],
   "source": [
    "c.execute(\"\"\"SELECT company, description FROM listings\"\"\")\n",
    "\n",
    "rows = c.fetchall()\n",
    "\n",
    "print(rows[0][1])"
   ]
  },
  {
   "cell_type": "markdown",
   "metadata": {},
   "source": [
    "#### Observing data"
   ]
  },
  {
   "cell_type": "code",
   "execution_count": 15,
   "metadata": {},
   "outputs": [],
   "source": [
    "import random"
   ]
  },
  {
   "cell_type": "code",
   "execution_count": 63,
   "metadata": {},
   "outputs": [
    {
     "name": "stdout",
     "output_type": "stream",
     "text": [
      "Summary:As a Manager- Precision Medicine you will work closely with Director, Precision Medicine and other key personnel to implement and operationalize Precision Medicine goals within Regeneron's clinical trials. Manages central laboratory and specialty vendors on clinical trials. Presents at investigators meetings and builds training materials (Lab Manual, Sample Collection Procedures, presentation slides, etc.). Supports and/or manages Senior Associates and Associate Managers to execute team the organizations goals.Job ResponsibilitiesStudy Team SupportParticipates in cross-functional study teams and sub-teams.Manages acquisition of clinical trial samples designated for biomarkers, precision medicine and/or exploratory research under supervision of more senior personnel.Supports individual clinical study teams as the need arises for all technical and operational sample-related matters for assigned projects by collaborating closely with internal partners.Operational Support of Biomarker and Exploratory AnalysisAssists Precision Medicine Scientists by assessing vendors, forecasting the biomarker sample operational costs, and reviewing invoices.Provides input on biomarker sections in clinical trial-related (such as protocols and consents) and other supporting documents.Selection of Central Laboratory and Specialty VendorsPrepares RFPs, reviews and assess bids and SOWs.Coordinates capabilities presentations by novel vendors.Attends conferences to identify new methodologies and technologies.Central Laboratory and Specialty Vendors ManagementTakes ownership for coordination of events, liaisons with vendors, and communication with academic collaborators.Participates in oversight activities with vendors and supports audits as required.Data Maintenance and ManagementSupports information exchange and maintain data integrity.Provides guidance and training to clinical sites, collaborators and vendors to enable transfer of biomarker and exploratory data under supervision of more senior personnel.Supports sample and data reconciliation activities.Compliance Maintenance in Collection and Processing of Human BiospecimenProvides guidance to clinical study teams and clinical sites regarding collection and storage of biospecimen acquired in the course of clinical trials under supervision of more senior personnel.Works with ICF Specialist and Precision Medicine Scientist to ensure compliance with ICF permissions.This May Be For You IfYou thrive in a cross functional matrix organization.You like to work with a wide array of biological assays including proteomics, cellular assays, genomics, etc.You want to see your impact on teams goals.You have the desire to see projects and process from inception through completion.Job requirementsTo be considered for this, you should have a minimum of a B.S degree with a Major or Minor in Biology, Biochemistry or equivalent with 8+ years of pharmaceutical industry experience and a solid understanding of the clinical drug development process. Your experience should include an understanding of bioethics of human biospecimen collection and research. Strong Project management/organizational skills are requiredDoes this sound like you? Apply now to take your first steps toward living the Regeneron Way! We have an inclusive and diverse culture that provides amazing benefits including health and wellness programs, fitness centers and stock for employees at all levels!Regeneron is an equal opportunity employer and all qualified applicants will receive consideration for employment without regard to race, color, religion or belief (or lack thereof), sex, nationality, national or ethnic origin, civil status, age, citizenship status, membership of the Traveler community, sexual orientation, disability, genetic information, familial status, marital or registered civil partnership status, pregnancy or maternity status, gender identity, gender reassignment, military or veteran status, or any other protected characteristic in accordance with applicable laws and regulations. We will ensure that individuals with disabilities are provided reasonable accommodations to participate in the job application process. Please contact us to discuss any accommodations you think you may need. 20636BRShow moreShow less\n",
      "---\n",
      "4284\n"
     ]
    }
   ],
   "source": [
    "rand_entry = random.randint(0,len(rows))\n",
    "entry = rows[rand_entry][1]\n",
    "print(entry)\n",
    "print('---')\n",
    "print(len(entry))"
   ]
  },
  {
   "cell_type": "markdown",
   "metadata": {},
   "source": [
    "#### Notes:\n",
    "- Overall there are just text datas\n",
    "- Some entries have hyphens, bullet points \n",
    "- Some words are mashed together\n",
    "- Most entries are quite long (atleast 1000 chars long)\n",
    "- Some entries have the \"This company is an Equal Opportunity provider . . .. \"\n",
    "- See \"Show more Show less often"
   ]
  },
  {
   "cell_type": "code",
   "execution_count": 43,
   "metadata": {},
   "outputs": [],
   "source": [
    "list_stopwords = stopwords.words('english')\n",
    "list_stopwords += list(string.punctuation)\n",
    "list_stopwords += ['show','company','description','summary','']"
   ]
  },
  {
   "cell_type": "code",
   "execution_count": 59,
   "metadata": {},
   "outputs": [],
   "source": [
    "token_list = nltk.word_tokenize(entry)\n",
    "stopwords_removed = [token.lower() for token in token_list if token.lower() not in list_stopwords]"
   ]
  },
  {
   "cell_type": "code",
   "execution_count": 62,
   "metadata": {},
   "outputs": [
    {
     "data": {
      "text/plain": [
       "[218, 108]"
      ]
     },
     "execution_count": 62,
     "metadata": {},
     "output_type": "execute_result"
    }
   ],
   "source": [
    "list(map(len,[token_list, stopwords_removed]))"
   ]
  },
  {
   "cell_type": "code",
   "execution_count": 79,
   "metadata": {},
   "outputs": [
    {
     "data": {
      "image/png": "[encoded data removed]",
      "text/plain": [
       "<Figure size 720x720 with 1 Axes>"
      ]
     },
     "metadata": {
      "needs_background": "light"
     },
     "output_type": "display_data"
    },
    {
     "data": {
      "text/plain": [
       "<matplotlib.axes._subplots.AxesSubplot at 0x1a25bcab90>"
      ]
     },
     "execution_count": 79,
     "metadata": {},
     "output_type": "execute_result"
    }
   ],
   "source": [
    "fdist = FreqDist(stopwords_removed)\n",
    "plt.figure(figsize=(10,10))\n",
    "fdist.plot(30)"
   ]
  },
  {
   "cell_type": "code",
   "execution_count": 69,
   "metadata": {},
   "outputs": [],
   "source": [
    "lemmatizer = WordNetLemmatizer() "
   ]
  },
  {
   "cell_type": "code",
   "execution_count": 77,
   "metadata": {},
   "outputs": [],
   "source": [
    "lemma_list = [lemmatizer.lemmatize(word) for word in stopwords_removed]"
   ]
  },
  {
   "cell_type": "code",
   "execution_count": 78,
   "metadata": {},
   "outputs": [
    {
     "data": {
      "text/plain": [
       "['company',\n",
       " 'descriptiontwitter',\n",
       " '’',\n",
       " 'happening',\n",
       " 'people',\n",
       " 'talking',\n",
       " 'right',\n",
       " 'u',\n",
       " 'life',\n",
       " \"'s\",\n",
       " 'job',\n",
       " \"'s\",\n",
       " 'purpose',\n",
       " 'believe',\n",
       " 'real',\n",
       " 'change',\n",
       " 'start',\n",
       " 'conversation',\n",
       " 'voice',\n",
       " 'matter',\n",
       " 'come',\n",
       " 'together',\n",
       " \"'ll\",\n",
       " \"'s\",\n",
       " 'right',\n",
       " \"'s\",\n",
       " 'easy',\n",
       " 'serve',\n",
       " 'public',\n",
       " 'conversation.job',\n",
       " 'descriptionwho',\n",
       " 'twitter',\n",
       " \"'s\",\n",
       " 'discovery',\n",
       " 'team',\n",
       " 'dedicated',\n",
       " 'getting',\n",
       " 'majority',\n",
       " 'world',\n",
       " 'converse',\n",
       " 'public',\n",
       " 'using',\n",
       " 'twitter',\n",
       " 'composed',\n",
       " 'many',\n",
       " 'team',\n",
       " 'across',\n",
       " 'company',\n",
       " 'including',\n",
       " 'product',\n",
       " 'engineering',\n",
       " 'design',\n",
       " 'research',\n",
       " 'team',\n",
       " 'responsible',\n",
       " 'understanding',\n",
       " 'need',\n",
       " 'user',\n",
       " 'including',\n",
       " 'new',\n",
       " 'user',\n",
       " 'user',\n",
       " 'active',\n",
       " 'help',\n",
       " 'discover',\n",
       " 'value',\n",
       " 'twitter',\n",
       " 'building',\n",
       " 'personalized',\n",
       " 'products.the',\n",
       " 'mission',\n",
       " 'instantly',\n",
       " 'connect',\n",
       " 'people',\n",
       " 'conversation',\n",
       " 'audience',\n",
       " 'meaningful',\n",
       " 'realize',\n",
       " 'goal',\n",
       " 'involves',\n",
       " 'work',\n",
       " 'area',\n",
       " 'machine',\n",
       " 'learning',\n",
       " 'applied',\n",
       " 'data',\n",
       " 'science',\n",
       " 'recommendation',\n",
       " 'system',\n",
       " 'information',\n",
       " 'retrieval',\n",
       " 'system',\n",
       " 'want',\n",
       " 'make',\n",
       " 'huge',\n",
       " 'impact',\n",
       " 'working',\n",
       " 'large',\n",
       " 'data',\n",
       " 'set',\n",
       " 'scale',\n",
       " 'discovery',\n",
       " 'team',\n",
       " 'good',\n",
       " 'fit',\n",
       " 'show',\n",
       " 'moreshow',\n",
       " 'le']"
      ]
     },
     "execution_count": 78,
     "metadata": {},
     "output_type": "execute_result"
    }
   ],
   "source": [
    "lemma_list"
   ]
  },
  {
   "cell_type": "code",
   "execution_count": null,
   "metadata": {},
   "outputs": [],
   "source": []
  }
 ],
 "metadata": {
  "kernelspec": {
   "display_name": "Python 3",
   "language": "python",
   "name": "python3"
  },
  "language_info": {
   "codemirror_mode": {
    "name": "ipython",
    "version": 3
   },
   "file_extension": ".py",
   "mimetype": "text/x-python",
   "name": "python",
   "nbconvert_exporter": "python",
   "pygments_lexer": "ipython3",
   "version": "3.7.6"
  }
 },
 "nbformat": 4,
 "nbformat_minor": 4
}

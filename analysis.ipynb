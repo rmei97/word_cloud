{
 "cells": [
  {
   "cell_type": "code",
   "execution_count": 1,
   "metadata": {},
   "outputs": [],
   "source": [
    "from nltk.stem.wordnet import WordNetLemmatizer\n",
    "from  nltk import FreqDist\n",
    "from nltk.corpus import stopwords\n",
    "import string"
   ]
  },
  {
   "cell_type": "code",
   "execution_count": 2,
   "metadata": {},
   "outputs": [],
   "source": [
    "import sqlite3"
   ]
  },
  {
   "cell_type": "code",
   "execution_count": 3,
   "metadata": {},
   "outputs": [],
   "source": [
    "conn = sqlite3.connect('jobs.db')\n",
    "c = conn.cursor()"
   ]
  },
  {
   "cell_type": "code",
   "execution_count": 5,
   "metadata": {},
   "outputs": [
    {
     "name": "stdout",
     "output_type": "stream",
     "text": [
      "980\n"
     ]
    }
   ],
   "source": [
    "c.execute(\"\"\"SELECT company, description FROM listings\"\"\")\n",
    "\n",
    "rows = c.fetchall()\n",
    "\n",
    "print(len(rows))\n"
   ]
  },
  {
   "cell_type": "code",
   "execution_count": 6,
   "metadata": {},
   "outputs": [
    {
     "data": {
      "text/plain": [
       "(0,\n",
       " 'Data Scientist',\n",
       " 'Datadog',\n",
       " 'New York, NY',\n",
       " \"About DatadogWe're on a mission to build the best platform in the world for engineers to understand and scale their systems, applications, and teams. We operate at high scale—trillions of data points per day—providing always-on alerting, metrics visualization, logs, and application tracing for tens of thousands of companies. Our engineering culture values pragmatism, honesty, and simplicity to solve hard problems the right way.The OpportunityYou will have a fantastic team of data engineers to support you, a collaborative environment to encourage your work, and the best technologies for performing data science at high scale in your toolkit.You Will Present the latest academic research papers to your team. Research and benchmark the latest algorithms that can be used for our particular use-cases. Apply machine learning algorithms and statistical techniques to build new product features. Deploy a new feature to production, instantly affecting customers with your work. Mentor other data scientists on your team. Explore and find meaning in extremely high volumes of data. Investigate and fix a production issue from a service your team owns. Requirements You have 2 + years professional experience You are fluent with SQL / relational algebra. You have mastered working with data in a language such as Python, R, or Julia. You’ve done data science at high scale with tools like Hadoop and Spark. You have backend programming experience in one or more languages. You have significant experience applying machine learning to real business problems. You want to work in a fast, high-growth startup environment and thrive on autonomy. You care about code simplicity and performance. You have a BS/MS/PhD in a scientific field or equivalent experience. You can explain complex ideas and algorithms in understandable ways. Bonus Points You’ve written production data pipelines. You’re familiar with time series analysis.Show moreShow less\")"
      ]
     },
     "execution_count": 6,
     "metadata": {},
     "output_type": "execute_result"
    }
   ],
   "source": [
    "rows[0]"
   ]
  },
  {
   "cell_type": "code",
   "execution_count": 11,
   "metadata": {},
   "outputs": [
    {
     "name": "stdout",
     "output_type": "stream",
     "text": [
      "About DatadogWe're on a mission to build the best platform in the world for engineers to understand and scale their systems, applications, and teams. We operate at high scale—trillions of data points per day—providing always-on alerting, metrics visualization, logs, and application tracing for tens of thousands of companies. Our engineering culture values pragmatism, honesty, and simplicity to solve hard problems the right way.The OpportunityYou will have a fantastic team of data engineers to support you, a collaborative environment to encourage your work, and the best technologies for performing data science at high scale in your toolkit.You Will Present the latest academic research papers to your team. Research and benchmark the latest algorithms that can be used for our particular use-cases. Apply machine learning algorithms and statistical techniques to build new product features. Deploy a new feature to production, instantly affecting customers with your work. Mentor other data scientists on your team. Explore and find meaning in extremely high volumes of data. Investigate and fix a production issue from a service your team owns. Requirements You have 2 + years professional experience You are fluent with SQL / relational algebra. You have mastered working with data in a language such as Python, R, or Julia. You’ve done data science at high scale with tools like Hadoop and Spark. You have backend programming experience in one or more languages. You have significant experience applying machine learning to real business problems. You want to work in a fast, high-growth startup environment and thrive on autonomy. You care about code simplicity and performance. You have a BS/MS/PhD in a scientific field or equivalent experience. You can explain complex ideas and algorithms in understandable ways. Bonus Points You’ve written production data pipelines. You’re familiar with time series analysis.Show moreShow less\n"
     ]
    }
   ],
   "source": [
    "c.execute(\"\"\"SELECT company, description FROM listings\"\"\")\n",
    "\n",
    "rows = c.fetchall()\n",
    "\n",
    "print(rows[0][1])"
   ]
  },
  {
   "cell_type": "markdown",
   "metadata": {},
   "source": [
    "#### Observing data"
   ]
  },
  {
   "cell_type": "code",
   "execution_count": 15,
   "metadata": {},
   "outputs": [],
   "source": [
    "import random"
   ]
  },
  {
   "cell_type": "code",
   "execution_count": 37,
   "metadata": {},
   "outputs": [
    {
     "name": "stdout",
     "output_type": "stream",
     "text": [
      "Company DescriptionTwitter is what’s happening and what people are talking about right now. For us, life's not about a job, it's about purpose. We believe real change starts with conversation. Here, your voice matters. Come as you are and together we'll do what's right (not what's easy) to serve the public conversation.Job DescriptionWho We are Twitter's Discovery teams are dedicated to getting the majority of the world to converse in public using Twitter. We are composed of many teams across the company, including Product, Engineering, Design, and Research. These teams are responsible for understanding the needs of all users including new users and users who are not very active, and help them discover the value of Twitter by building personalized products.The mission is to instantly connect people with conversations and audiences most meaningful to them! We realize this goal involves work in areas such as machine learning, applied data science, recommendation systems, and information retrieval systems. Do you want to make a huge impact while working with large data sets at scale? If so, a Discovery team is a good fit for you!Show moreShow less\n",
      "---\n",
      "1162\n"
     ]
    }
   ],
   "source": [
    "rand_entry = random.randint(0,len(rows))\n",
    "entry = rows[rand_entry][1]\n",
    "print(entry)\n",
    "print('---')\n",
    "print(len(entry))"
   ]
  },
  {
   "cell_type": "markdown",
   "metadata": {},
   "source": [
    "#### Notes:\n",
    "- Overall there are just text datas\n",
    "- Some entries have hyphens, bullet points \n",
    "- Some words are mashed together\n",
    "- Most entries are quite long (atleast 1000 chars long)\n",
    "- Some entries have the \"This company is an Equal Opportunity provider . . .. \"\n",
    "- See \"Show more Show less often"
   ]
  },
  {
   "cell_type": "code",
   "execution_count": null,
   "metadata": {},
   "outputs": [],
   "source": []
  }
 ],
 "metadata": {
  "kernelspec": {
   "display_name": "Python 3",
   "language": "python",
   "name": "python3"
  },
  "language_info": {
   "codemirror_mode": {
    "name": "ipython",
    "version": 3
   },
   "file_extension": ".py",
   "mimetype": "text/x-python",
   "name": "python",
   "nbconvert_exporter": "python",
   "pygments_lexer": "ipython3",
   "version": "3.7.6"
  }
 },
 "nbformat": 4,
 "nbformat_minor": 4
}
